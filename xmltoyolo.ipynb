{
  "nbformat": 4,
  "nbformat_minor": 0,
  "metadata": {
    "colab": {
      "name": "xmltoyolo.ipynb",
      "provenance": [],
      "authorship_tag": "ABX9TyNIIaQghwB1xtRr9o4OfTE4",
      "include_colab_link": true
    },
    "kernelspec": {
      "name": "python3",
      "display_name": "Python 3"
    },
    "language_info": {
      "name": "python"
    }
  },
  "cells": [
    {
      "cell_type": "markdown",
      "metadata": {
        "id": "view-in-github",
        "colab_type": "text"
      },
      "source": [
        "<a href=\"https://colab.research.google.com/github/jang-jaehyuk/yoloproject/blob/master/xmltoyolo.ipynb\" target=\"_parent\"><img src=\"https://colab.research.google.com/assets/colab-badge.svg\" alt=\"Open In Colab\"/></a>"
      ]
    },
    {
      "cell_type": "markdown",
      "source": [
        "# Google Drive Mount"
      ],
      "metadata": {
        "id": "zrUqlP6Sz1pA"
      }
    },
    {
      "cell_type": "code",
      "source": [
        "from google.colab import drive\n",
        "drive.mount('/content/drive')"
      ],
      "metadata": {
        "id": "_wBMrEQUcmV9"
      },
      "execution_count": null,
      "outputs": []
    },
    {
      "cell_type": "markdown",
      "source": [
        "# import"
      ],
      "metadata": {
        "id": "LkFNHSS3z7iP"
      }
    },
    {
      "cell_type": "code",
      "source": [
        "import os\n",
        "import xml.etree.ElementTree as ET"
      ],
      "metadata": {
        "id": "JTBvC-M8dT2E"
      },
      "execution_count": 2,
      "outputs": []
    },
    {
      "cell_type": "markdown",
      "source": [
        "## XML 포맷을 YOLO 포맷으로 변환하는 함수"
      ],
      "metadata": {
        "id": "wEs7d6lNH2TG"
      }
    },
    {
      "cell_type": "code",
      "execution_count": 34,
      "metadata": {
        "id": "HN758ODREKs7"
      },
      "outputs": [],
      "source": [
        "def xml2yolo(xml_path, output_path, fierce = False):\n",
        "    # input, output path 정의\n",
        "    ANNO_path = xml_path        # xml 포맷으로 저장된 annotation이 저장된 경로\n",
        "    OUTPUT_ANNO_path = output_path\n",
        "\n",
        "    if not os.path.exists(OUTPUT_ANNO_path):                       # 저장할 경로가 생성되 있지 않다면 directory 생성\n",
        "        os.mkdir(OUTPUT_ANNO_path)\n",
        "    \n",
        "    remove_cnt = 0                                            # size가 없어서 삭제된 개수\n",
        "    ANNO_list = os.listdir(ANNO_path)                         #  XML 파일 전체 list\n",
        "\n",
        "    for f in ANNO_list:                                       #  XML 파일 하나씩 작업   \n",
        "        file_path = os.path.join(ANNO_path, f)                #  파일경로\n",
        "\n",
        "        # ===== xml파일 parsing ===== # \n",
        "        tree = ET.parse(file_path)\n",
        "        root = tree.getroot()\n",
        "\n",
        "        file_name = root.find('filename').text                #  XML파일에 <filename> 정보 가져오기\n",
        "        dog_name = root.find('object').find('name').text      #  개 이름 가져오기\n",
        "\n",
        "        if fierce:\n",
        "            class_name = 'fierce' if dog_name in [            # 만약 개이름이 리스트안에 있다면\n",
        "                'Staffordshire Bull Terrier',                 # class_name 은 fierce\n",
        "                'American Pit Bull Terrier',                  # 없다면 class_name은 normal\n",
        "            ] else 'normal'                        \n",
        "\n",
        "            class_id = 0 if class_name == 'normal' else 'fierce'  # class_name이 normal이면 id는 0 fierce면 fierce\n",
        "        \n",
        "        size = root.find('size')                              #  XML파일에 <size> 정보 가져오기\n",
        "\n",
        "        if size is None:                                      # 사이즈가 없다면 삭제개수 + 1\n",
        "            remove_cnt += 1\n",
        "            continue\n",
        "\n",
        "        img_width = int(size.find('width').text)              # <size>에 width 저장\n",
        "        img_height = int(size.find('height').text)            # <size>에 height 저장\n",
        "\n",
        "        with open(os.path.join(OUTPUT_ANNO_path, f'{file_name}.txt'), 'w') as f:\n",
        "              # 오브젝트 정보\n",
        "              obj = root.find('object')\n",
        "              \n",
        "              # bounding box 정보\n",
        "              if obj.find('bndbox') is None:\n",
        "                box = obj.find('bodybndbox')\n",
        "              else: box = obj.find('bndbox')\n",
        "\n",
        "              # ===== 바운딩박스 좌표 가져오기 ===== # \n",
        "              xmin = int(box.find('xmin').text)\n",
        "              ymin = int(box.find('ymin').text)\n",
        "              xmax = int(box.find('xmax').text)\n",
        "              ymax = int(box.find('ymax').text)\n",
        "\n",
        "              # ===== yolo형식에 맞게 계산 ===== # \n",
        "              x = round(((xmin + xmax) / 2)/img_width, 7)\n",
        "              y = round(((ymin + ymax) / 2)/img_height, 7)\n",
        "              width = round((xmax - xmin)/img_width, 7)\n",
        "              height = round((ymax - ymin)/img_height, 7)\n",
        "\n",
        "              # ===== yolo형식에 맞게 입력 ===== # \n",
        "              text = '{} {} {} {} {}'.format(class_id, x, y, width, height)\n",
        "\n",
        "              f.write(text + '\\n')"
      ]
    },
    {
      "cell_type": "markdown",
      "source": [
        "# YOLO포맷으로 변환\n",
        "## annotation파일 경로, 결과를 저장할 파일, 맹견라벨링 할지 파라미터로 입력\n",
        "xml파일명과 동일한파일명.txt로 labels폴더에 저장됨"
      ],
      "metadata": {
        "id": "OLFxVj3GH9nO"
      }
    },
    {
      "cell_type": "code",
      "source": [
        "xml2yolo(\"/content/drive/MyDrive/annotation\", \"/content/drive/MyDrive/labels\", True)"
      ],
      "metadata": {
        "id": "XGv1vHhiE_Pe"
      },
      "execution_count": 36,
      "outputs": []
    }
  ]
}