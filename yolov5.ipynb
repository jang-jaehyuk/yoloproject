{
  "nbformat": 4,
  "nbformat_minor": 0,
  "metadata": {
    "colab": {
      "name": "yolov5.ipynb",
      "provenance": [],
      "collapsed_sections": [],
      "authorship_tag": "ABX9TyNDYf/b2qE6tapwlXnXX4yH",
      "include_colab_link": true
    },
    "kernelspec": {
      "name": "python3",
      "display_name": "Python 3"
    },
    "language_info": {
      "name": "python"
    },
    "accelerator": "GPU",
    "gpuClass": "standard"
  },
  "cells": [
    {
      "cell_type": "markdown",
      "metadata": {
        "id": "view-in-github",
        "colab_type": "text"
      },
      "source": [
        "<a href=\"https://colab.research.google.com/github/jang-jaehyuk/yoloproject/blob/master/yolov5.ipynb\" target=\"_parent\"><img src=\"https://colab.research.google.com/assets/colab-badge.svg\" alt=\"Open In Colab\"/></a>"
      ]
    },
    {
      "cell_type": "markdown",
      "source": [
        "#YOLOV5를 구글드라이브에 clone한 후 실험하였음\n"
      ],
      "metadata": {
        "id": "1dN4lUif__D4"
      }
    },
    {
      "cell_type": "code",
      "source": [
        "from google.colab import drive\n",
        "drive.mount('/content/drive')"
      ],
      "metadata": {
        "id": "o6KiFrolCnpP"
      },
      "execution_count": null,
      "outputs": []
    },
    {
      "cell_type": "markdown",
      "source": [
        "##  /content/drive/MyDrive/yolov5로 이동 및 설치\n"
      ],
      "metadata": {
        "id": "Ve4Modo1DFtB"
      }
    },
    {
      "cell_type": "code",
      "source": [
        "%cd drive\n",
        "%cd MyDrive\n",
        "%cd yolov5\n",
        "\n",
        "%pip install -qr requirements.txt  # install\n",
        "\n",
        "import torch\n",
        "import utils\n",
        "display = utils.notebook_init()  # checks"
      ],
      "metadata": {
        "id": "RC6xrZ9lWBtu"
      },
      "execution_count": null,
      "outputs": []
    },
    {
      "cell_type": "code",
      "source": [
        "from matplotlib import pyplot as pyplot\n",
        "from sklearn.model_selection import train_test_split\n",
        "import os\n",
        "import numpy as np\n",
        "import cv2\n",
        "from matplotlib import pyplot as plt"
      ],
      "metadata": {
        "id": "MQH8daUsCyls"
      },
      "execution_count": null,
      "outputs": []
    },
    {
      "cell_type": "markdown",
      "source": [
        "### yolov5/data폴더에 images파일에 images를 넣어주고\n",
        "### yolov5/data폴더에 labels파일에 annotation을 변환한 txt파일을 넣어줌\n",
        "\n",
        "train ,val, test set으로 나눈후\n",
        "각각 images labels 폴더아래 새로운 폴더 생성"
      ],
      "metadata": {
        "id": "WsMVQtYe0TE4"
      }
    },
    {
      "cell_type": "code",
      "source": [
        "from sklearn.model_selection import train_test_split\n",
        "images_path = '/content/drive/MyDrive/yolov5/data/images'\n",
        "labels_path = '/content/drive/MyDrive/yolov5/data/labels'\n",
        "# Read images and annotations\n",
        "images = [os.path.join(images_path, x) for x in os.listdir(images_path)]\n",
        "labels = [os.path.join(labels_path, x) for x in os.listdir(labels_path)]\n",
        "\n",
        "images.sort()\n",
        "labels.sort()\n",
        "\n",
        "# Split the dataset into train-valid-test splits  8 : 1 : 1\n",
        "train_images, val_images, train_labels, val_labels = train_test_split(images, labels, test_size = 0.2, random_state = 42)\n",
        "val_images, test_images, val_labels, test_labels = train_test_split(val_images, val_labels, test_size = 0.5, random_state = 42)\n",
        "\n",
        "# 폴더 생성\n",
        "!mkdir /content/drive/MyDrive/yolov5/data/images/train \n",
        "!mkdir /content/drive/MyDrive/yolov5/data/images/val \n",
        "!mkdir /content/drive/MyDrive/yolov5/data/images/test\n",
        "!mkdir /content/drive/MyDrive/yolov5/data/labels/train \n",
        "!mkdir /content/drive/MyDrive/yolov5/data/labels/val \n",
        "!mkdir /content/drive/MyDrive/yolov5/data/labels/test"
      ],
      "metadata": {
        "id": "M6WXqCYcYmXd"
      },
      "execution_count": null,
      "outputs": []
    },
    {
      "cell_type": "markdown",
      "source": [
        "## 생성된 폴더로 이동시켜주는 함수"
      ],
      "metadata": {
        "id": "xhkc2por1CGF"
      }
    },
    {
      "cell_type": "code",
      "source": [
        "#Utility function to move images \n",
        "import shutil\n",
        "def move_files_to_folder(list_of_files, destination_folder):\n",
        "    for f in list_of_files:\n",
        "        try:\n",
        "            shutil.move(f, destination_folder)\n",
        "        except:\n",
        "            print(f)\n",
        "            assert False\n",
        "\n",
        "# Move the splits into their folders\n",
        "move_files_to_folder(train_images, '/content/drive/MyDrive/yolov5/data/images/train')\n",
        "move_files_to_folder(val_images, '/content/drive/MyDrive/yolov5/data/images/val/')\n",
        "move_files_to_folder(test_images, '/content/drive/MyDrive/yolov5/data/images/test/')\n",
        "move_files_to_folder(train_labels, '/content/drive/MyDrive/yolov5/data/labels/train/')\n",
        "move_files_to_folder(val_labels, '/content/drive/MyDrive/yolov5/data/labels/val/')\n",
        "move_files_to_folder(test_labels, '/content/drive/MyDrive/yolov5/data/labels/test/')"
      ],
      "metadata": {
        "id": "WTIUilaSeR-3"
      },
      "execution_count": null,
      "outputs": []
    },
    {
      "cell_type": "markdown",
      "source": [
        "# 실제 훈련 \n",
        "###(colab에서 실행시 런타임->런타임유형 변경->  하드웨어가속기를 GPU로 선택 후 훈련)\n",
        "yaml파일은\n",
        "https://github.com/ultralytics/yolov5/wiki/Train-Custom-Data#11-create-datasetyaml 에 들어가서\n",
        "1. Create Dataset\n",
        "\n",
        "Or manually prepare your dataset (click to expand)\n",
        "을 클릭하면 yaml파일에 예시가 나온다.\n",
        "\n",
        "예시를 따라 자기에게 맞게 작업하면 된다. \n"
      ],
      "metadata": {
        "id": "yFfRDg2R1Gdf"
      }
    },
    {
      "cell_type": "code",
      "source": [
        "!python train.py --img 640 --batch 20 --epochs 30 --data dataset.yaml --weight yolov5l.pt"
      ],
      "metadata": {
        "id": "g492ahbcYtm0"
      },
      "execution_count": null,
      "outputs": []
    },
    {
      "cell_type": "markdown",
      "source": [
        "### 훈련된 model을 볼러옴"
      ],
      "metadata": {
        "id": "CXIaxaZx23qo"
      }
    },
    {
      "cell_type": "code",
      "source": [
        "model = torch.hub.load('ultralytics/yolov5','custom',path='/content/drive/MyDrive/yolov5/runs/train/exp3/weights/last.pt',force_reload=True)"
      ],
      "metadata": {
        "id": "66G5xYspqfgW"
      },
      "execution_count": null,
      "outputs": []
    },
    {
      "cell_type": "code",
      "source": [
        "img = ' '"
      ],
      "metadata": {
        "id": "GGrSHVlupmzP"
      },
      "execution_count": null,
      "outputs": []
    },
    {
      "cell_type": "code",
      "source": [
        "results = model(img)"
      ],
      "metadata": {
        "id": "tmqf-aGSrJMi"
      },
      "execution_count": null,
      "outputs": []
    },
    {
      "cell_type": "code",
      "source": [
        "results.print()"
      ],
      "metadata": {
        "id": "FDb21X-FrN-B"
      },
      "execution_count": null,
      "outputs": []
    },
    {
      "cell_type": "code",
      "source": [
        "%matplotlib inline\n",
        "plt.imshow(np.squeeze(results.render()))\n",
        "plt.show()"
      ],
      "metadata": {
        "id": "xwhNwsSklTh-"
      },
      "execution_count": null,
      "outputs": []
    }
  ]
}